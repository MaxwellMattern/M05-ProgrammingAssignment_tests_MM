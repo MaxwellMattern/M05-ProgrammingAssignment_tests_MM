{
 "cells": [
  {
   "cell_type": "code",
   "execution_count": 6,
   "id": "cd52f0c3",
   "metadata": {},
   "outputs": [
    {
     "name": "stderr",
     "output_type": "stream",
     "text": [
      "E\n",
      "======================================================================\n",
      "ERROR: C:\\Users\\maxwe\\AppData\\Roaming\\jupyter\\runtime\\kernel-ed35644b-c9b9-418c-bc58-ccdd8c60aeac (unittest.loader._FailedTest)\n",
      "----------------------------------------------------------------------\n",
      "AttributeError: module '__main__' has no attribute 'C:\\Users\\maxwe\\AppData\\Roaming\\jupyter\\runtime\\kernel-ed35644b-c9b9-418c-bc58-ccdd8c60aeac'\n",
      "\n",
      "----------------------------------------------------------------------\n",
      "Ran 1 test in 0.004s\n",
      "\n",
      "FAILED (errors=1)\n"
     ]
    },
    {
     "ename": "SystemExit",
     "evalue": "True",
     "output_type": "error",
     "traceback": [
      "An exception has occurred, use %tb to see the full traceback.\n",
      "\u001b[1;31mSystemExit\u001b[0m\u001b[1;31m:\u001b[0m True\n"
     ]
    },
    {
     "name": "stderr",
     "output_type": "stream",
     "text": [
      "C:\\Users\\maxwe\\anaconda3\\lib\\site-packages\\IPython\\core\\interactiveshell.py:3465: UserWarning: To exit: use 'exit', 'quit', or Ctrl-D.\n",
      "  warn(\"To exit: use 'exit', 'quit', or Ctrl-D.\", stacklevel=1)\n"
     ]
    }
   ],
   "source": [
    "# Max Mattern\n",
    "# SDEV220 Fall 2022\n",
    "# M05 Programming Assignment-Testing\n",
    "# 11/28/22\n",
    "\n",
    "# Unittest Tutorial 1\n",
    "import unittest\n",
    "\n",
    "class TestSum(unittest.TestCase):\n",
    "    \n",
    "    def test_sum(self):\n",
    "        self.asserEqual(sum([1,2,3]),6,\"Should be 6\")\n",
    "        \n",
    "    def test_sum_tuple(self):\n",
    "        self.assertEqual(sum((1,2,2)),6,\"Should be 6\")\n",
    "\n",
    "if __name__ == '__main__':\n",
    "    unittest.main()"
   ]
  },
  {
   "cell_type": "code",
   "execution_count": null,
   "id": "f78ad6d2",
   "metadata": {},
   "outputs": [],
   "source": []
  }
 ],
 "metadata": {
  "kernelspec": {
   "display_name": "Python 3 (ipykernel)",
   "language": "python",
   "name": "python3"
  },
  "language_info": {
   "codemirror_mode": {
    "name": "ipython",
    "version": 3
   },
   "file_extension": ".py",
   "mimetype": "text/x-python",
   "name": "python",
   "nbconvert_exporter": "python",
   "pygments_lexer": "ipython3",
   "version": "3.9.13"
  }
 },
 "nbformat": 4,
 "nbformat_minor": 5
}
